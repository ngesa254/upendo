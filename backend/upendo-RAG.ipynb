{
 "cells": [
  {
   "cell_type": "markdown",
   "id": "94dd8ade-644d-4041-bf41-92fcdbd2b35f",
   "metadata": {},
   "source": [
    "# Upendo - A gentle Introduction to RAG with Gemini and Langchains"
   ]
  },
  {
   "cell_type": "code",
   "execution_count": null,
   "id": "bda79bc6-e071-4382-b36f-828a6dba296d",
   "metadata": {},
   "outputs": [],
   "source": []
  }
 ],
 "metadata": {
  "environment": {
   "kernel": "conda-env-tensorflow-tensorflow",
   "name": "workbench-notebooks.m125",
   "type": "gcloud",
   "uri": "us-docker.pkg.dev/deeplearning-platform-release/gcr.io/workbench-notebooks:m125"
  },
  "kernelspec": {
   "display_name": "TensorFlow 2-11",
   "language": "python",
   "name": "conda-env-tensorflow-tensorflow"
  },
  "language_info": {
   "codemirror_mode": {
    "name": "ipython",
    "version": 3
   },
   "file_extension": ".py",
   "mimetype": "text/x-python",
   "name": "python",
   "nbconvert_exporter": "python",
   "pygments_lexer": "ipython3",
   "version": "3.10.15"
  }
 },
 "nbformat": 4,
 "nbformat_minor": 5
}
